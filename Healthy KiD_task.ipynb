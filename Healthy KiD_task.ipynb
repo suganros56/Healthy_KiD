{
 "cells": [
  {
   "cell_type": "code",
   "execution_count": 184,
   "metadata": {},
   "outputs": [],
   "source": [
    "import pandas as pd\n",
    "import numpy as np\n",
    "import seaborn as sns\n",
    "import re\n",
    "import matplotlib.pyplot as plt\n",
    "import matplotlib.patches as patches\n",
    "import matplotlib as mlt\n",
    "%matplotlib inline"
   ]
  },
  {
   "cell_type": "code",
   "execution_count": 12,
   "metadata": {},
   "outputs": [],
   "source": [
    "df=pd.read_excel('C:/Users/Roshan/Desktop/AllStudentWithBPData.xlsx')"
   ]
  },
  {
   "cell_type": "code",
   "execution_count": 14,
   "metadata": {},
   "outputs": [
    {
     "data": {
      "text/html": [
       "<div>\n",
       "<style scoped>\n",
       "    .dataframe tbody tr th:only-of-type {\n",
       "        vertical-align: middle;\n",
       "    }\n",
       "\n",
       "    .dataframe tbody tr th {\n",
       "        vertical-align: top;\n",
       "    }\n",
       "\n",
       "    .dataframe thead th {\n",
       "        text-align: right;\n",
       "    }\n",
       "</style>\n",
       "<table border=\"1\" class=\"dataframe\">\n",
       "  <thead>\n",
       "    <tr style=\"text-align: right;\">\n",
       "      <th></th>\n",
       "      <th>UHID</th>\n",
       "      <th>BP</th>\n",
       "    </tr>\n",
       "  </thead>\n",
       "  <tbody>\n",
       "    <tr>\n",
       "      <th>0</th>\n",
       "      <td>100-0000-0001</td>\n",
       "      <td>104/75  mmHg</td>\n",
       "    </tr>\n",
       "    <tr>\n",
       "      <th>1</th>\n",
       "      <td>100-0000-0002</td>\n",
       "      <td>NaN</td>\n",
       "    </tr>\n",
       "    <tr>\n",
       "      <th>2</th>\n",
       "      <td>100-0000-0003</td>\n",
       "      <td>NaN</td>\n",
       "    </tr>\n",
       "    <tr>\n",
       "      <th>3</th>\n",
       "      <td>100-0000-0004</td>\n",
       "      <td>NaN</td>\n",
       "    </tr>\n",
       "    <tr>\n",
       "      <th>4</th>\n",
       "      <td>100-0000-0005</td>\n",
       "      <td>NaN</td>\n",
       "    </tr>\n",
       "    <tr>\n",
       "      <th>5</th>\n",
       "      <td>100-0000-0006</td>\n",
       "      <td>NaN</td>\n",
       "    </tr>\n",
       "    <tr>\n",
       "      <th>6</th>\n",
       "      <td>100-0000-0007</td>\n",
       "      <td>NaN</td>\n",
       "    </tr>\n",
       "    <tr>\n",
       "      <th>7</th>\n",
       "      <td>100-0000-0008</td>\n",
       "      <td>NaN</td>\n",
       "    </tr>\n",
       "    <tr>\n",
       "      <th>8</th>\n",
       "      <td>100-0000-0009</td>\n",
       "      <td>NaN</td>\n",
       "    </tr>\n",
       "    <tr>\n",
       "      <th>9</th>\n",
       "      <td>100-0000-0010</td>\n",
       "      <td>NaN</td>\n",
       "    </tr>\n",
       "    <tr>\n",
       "      <th>10</th>\n",
       "      <td>100-0000-0011</td>\n",
       "      <td>NaN</td>\n",
       "    </tr>\n",
       "    <tr>\n",
       "      <th>11</th>\n",
       "      <td>100-0000-0012</td>\n",
       "      <td>NaN</td>\n",
       "    </tr>\n",
       "    <tr>\n",
       "      <th>12</th>\n",
       "      <td>100-0000-0013</td>\n",
       "      <td>NaN</td>\n",
       "    </tr>\n",
       "    <tr>\n",
       "      <th>13</th>\n",
       "      <td>100-0000-0014</td>\n",
       "      <td>NaN</td>\n",
       "    </tr>\n",
       "    <tr>\n",
       "      <th>14</th>\n",
       "      <td>100-0000-0015</td>\n",
       "      <td>NaN</td>\n",
       "    </tr>\n",
       "    <tr>\n",
       "      <th>15</th>\n",
       "      <td>100-0000-0016</td>\n",
       "      <td>NaN</td>\n",
       "    </tr>\n",
       "    <tr>\n",
       "      <th>16</th>\n",
       "      <td>100-0000-0017</td>\n",
       "      <td>NaN</td>\n",
       "    </tr>\n",
       "    <tr>\n",
       "      <th>17</th>\n",
       "      <td>100-0000-0018</td>\n",
       "      <td>NaN</td>\n",
       "    </tr>\n",
       "    <tr>\n",
       "      <th>18</th>\n",
       "      <td>100-0000-0019</td>\n",
       "      <td>NaN</td>\n",
       "    </tr>\n",
       "    <tr>\n",
       "      <th>19</th>\n",
       "      <td>100-0000-0020</td>\n",
       "      <td>110/68  mmHg</td>\n",
       "    </tr>\n",
       "    <tr>\n",
       "      <th>20</th>\n",
       "      <td>100-0000-0021</td>\n",
       "      <td>NaN</td>\n",
       "    </tr>\n",
       "    <tr>\n",
       "      <th>21</th>\n",
       "      <td>100-0000-0022</td>\n",
       "      <td>127/80  mmHg</td>\n",
       "    </tr>\n",
       "    <tr>\n",
       "      <th>22</th>\n",
       "      <td>100-0000-0023</td>\n",
       "      <td>NaN</td>\n",
       "    </tr>\n",
       "    <tr>\n",
       "      <th>23</th>\n",
       "      <td>100-0000-0024</td>\n",
       "      <td>NaN</td>\n",
       "    </tr>\n",
       "    <tr>\n",
       "      <th>24</th>\n",
       "      <td>100-0000-0025</td>\n",
       "      <td>NaN</td>\n",
       "    </tr>\n",
       "  </tbody>\n",
       "</table>\n",
       "</div>"
      ],
      "text/plain": [
       "             UHID            BP\n",
       "0   100-0000-0001  104/75  mmHg\n",
       "1   100-0000-0002           NaN\n",
       "2   100-0000-0003           NaN\n",
       "3   100-0000-0004           NaN\n",
       "4   100-0000-0005           NaN\n",
       "5   100-0000-0006           NaN\n",
       "6   100-0000-0007           NaN\n",
       "7   100-0000-0008           NaN\n",
       "8   100-0000-0009           NaN\n",
       "9   100-0000-0010           NaN\n",
       "10  100-0000-0011           NaN\n",
       "11  100-0000-0012           NaN\n",
       "12  100-0000-0013           NaN\n",
       "13  100-0000-0014           NaN\n",
       "14  100-0000-0015           NaN\n",
       "15  100-0000-0016           NaN\n",
       "16  100-0000-0017           NaN\n",
       "17  100-0000-0018           NaN\n",
       "18  100-0000-0019           NaN\n",
       "19  100-0000-0020  110/68  mmHg\n",
       "20  100-0000-0021           NaN\n",
       "21  100-0000-0022  127/80  mmHg\n",
       "22  100-0000-0023           NaN\n",
       "23  100-0000-0024           NaN\n",
       "24  100-0000-0025           NaN"
      ]
     },
     "execution_count": 14,
     "metadata": {},
     "output_type": "execute_result"
    }
   ],
   "source": [
    "df.head(25)"
   ]
  },
  {
   "cell_type": "code",
   "execution_count": 15,
   "metadata": {},
   "outputs": [],
   "source": [
    "df.dropna(axis=0,inplace=True)"
   ]
  },
  {
   "cell_type": "code",
   "execution_count": 16,
   "metadata": {},
   "outputs": [
    {
     "data": {
      "text/html": [
       "<div>\n",
       "<style scoped>\n",
       "    .dataframe tbody tr th:only-of-type {\n",
       "        vertical-align: middle;\n",
       "    }\n",
       "\n",
       "    .dataframe tbody tr th {\n",
       "        vertical-align: top;\n",
       "    }\n",
       "\n",
       "    .dataframe thead th {\n",
       "        text-align: right;\n",
       "    }\n",
       "</style>\n",
       "<table border=\"1\" class=\"dataframe\">\n",
       "  <thead>\n",
       "    <tr style=\"text-align: right;\">\n",
       "      <th></th>\n",
       "      <th>UHID</th>\n",
       "      <th>BP</th>\n",
       "    </tr>\n",
       "  </thead>\n",
       "  <tbody>\n",
       "    <tr>\n",
       "      <th>0</th>\n",
       "      <td>100-0000-0001</td>\n",
       "      <td>104/75  mmHg</td>\n",
       "    </tr>\n",
       "    <tr>\n",
       "      <th>19</th>\n",
       "      <td>100-0000-0020</td>\n",
       "      <td>110/68  mmHg</td>\n",
       "    </tr>\n",
       "    <tr>\n",
       "      <th>21</th>\n",
       "      <td>100-0000-0022</td>\n",
       "      <td>127/80  mmHg</td>\n",
       "    </tr>\n",
       "    <tr>\n",
       "      <th>27</th>\n",
       "      <td>100-0000-0028</td>\n",
       "      <td>124/81  mmHg</td>\n",
       "    </tr>\n",
       "    <tr>\n",
       "      <th>37</th>\n",
       "      <td>100-0000-0038</td>\n",
       "      <td>115/71  mmHg</td>\n",
       "    </tr>\n",
       "    <tr>\n",
       "      <th>41</th>\n",
       "      <td>100-0000-0042</td>\n",
       "      <td>115/75  mmHg</td>\n",
       "    </tr>\n",
       "    <tr>\n",
       "      <th>42</th>\n",
       "      <td>100-0000-0043</td>\n",
       "      <td>115/69  mmHg</td>\n",
       "    </tr>\n",
       "    <tr>\n",
       "      <th>44</th>\n",
       "      <td>100-0000-0045</td>\n",
       "      <td>122/76  mmHg</td>\n",
       "    </tr>\n",
       "    <tr>\n",
       "      <th>48</th>\n",
       "      <td>100-0000-0049</td>\n",
       "      <td>109/76  mmHg</td>\n",
       "    </tr>\n",
       "    <tr>\n",
       "      <th>53</th>\n",
       "      <td>100-0000-0054</td>\n",
       "      <td>130/73  mmHg</td>\n",
       "    </tr>\n",
       "    <tr>\n",
       "      <th>58</th>\n",
       "      <td>100-0000-0059</td>\n",
       "      <td>91/55  mmHg</td>\n",
       "    </tr>\n",
       "    <tr>\n",
       "      <th>64</th>\n",
       "      <td>100-0000-0065</td>\n",
       "      <td>86/58  mmHg</td>\n",
       "    </tr>\n",
       "    <tr>\n",
       "      <th>65</th>\n",
       "      <td>100-0000-0066</td>\n",
       "      <td>111/71  mmHg</td>\n",
       "    </tr>\n",
       "    <tr>\n",
       "      <th>136</th>\n",
       "      <td>100-0000-0137</td>\n",
       "      <td>95/59  mmHg</td>\n",
       "    </tr>\n",
       "    <tr>\n",
       "      <th>164</th>\n",
       "      <td>100-0000-0165</td>\n",
       "      <td>98/67  mmHg</td>\n",
       "    </tr>\n",
       "    <tr>\n",
       "      <th>168</th>\n",
       "      <td>100-0000-0169</td>\n",
       "      <td>94/61  mmHg</td>\n",
       "    </tr>\n",
       "    <tr>\n",
       "      <th>214</th>\n",
       "      <td>100-0000-0215</td>\n",
       "      <td>122.7  mmHg</td>\n",
       "    </tr>\n",
       "    <tr>\n",
       "      <th>261</th>\n",
       "      <td>100-0000-0262</td>\n",
       "      <td>120/70  mmHg</td>\n",
       "    </tr>\n",
       "    <tr>\n",
       "      <th>264</th>\n",
       "      <td>100-0000-0265</td>\n",
       "      <td>109/71  mmHg</td>\n",
       "    </tr>\n",
       "    <tr>\n",
       "      <th>279</th>\n",
       "      <td>100-0000-0280</td>\n",
       "      <td>119/85  mmHg</td>\n",
       "    </tr>\n",
       "    <tr>\n",
       "      <th>287</th>\n",
       "      <td>100-0000-0288</td>\n",
       "      <td>139/71  mmHg</td>\n",
       "    </tr>\n",
       "    <tr>\n",
       "      <th>288</th>\n",
       "      <td>100-0000-0289</td>\n",
       "      <td>114/77  mmHg</td>\n",
       "    </tr>\n",
       "    <tr>\n",
       "      <th>415</th>\n",
       "      <td>100-0000-0416</td>\n",
       "      <td>103/74  mmHg</td>\n",
       "    </tr>\n",
       "    <tr>\n",
       "      <th>416</th>\n",
       "      <td>100-0000-0417</td>\n",
       "      <td>97/74  mmHg</td>\n",
       "    </tr>\n",
       "    <tr>\n",
       "      <th>417</th>\n",
       "      <td>100-0000-0418</td>\n",
       "      <td>106/77  mmHg</td>\n",
       "    </tr>\n",
       "  </tbody>\n",
       "</table>\n",
       "</div>"
      ],
      "text/plain": [
       "              UHID            BP\n",
       "0    100-0000-0001  104/75  mmHg\n",
       "19   100-0000-0020  110/68  mmHg\n",
       "21   100-0000-0022  127/80  mmHg\n",
       "27   100-0000-0028  124/81  mmHg\n",
       "37   100-0000-0038  115/71  mmHg\n",
       "41   100-0000-0042  115/75  mmHg\n",
       "42   100-0000-0043  115/69  mmHg\n",
       "44   100-0000-0045  122/76  mmHg\n",
       "48   100-0000-0049  109/76  mmHg\n",
       "53   100-0000-0054  130/73  mmHg\n",
       "58   100-0000-0059   91/55  mmHg\n",
       "64   100-0000-0065   86/58  mmHg\n",
       "65   100-0000-0066  111/71  mmHg\n",
       "136  100-0000-0137   95/59  mmHg\n",
       "164  100-0000-0165   98/67  mmHg\n",
       "168  100-0000-0169   94/61  mmHg\n",
       "214  100-0000-0215   122.7  mmHg\n",
       "261  100-0000-0262  120/70  mmHg\n",
       "264  100-0000-0265  109/71  mmHg\n",
       "279  100-0000-0280  119/85  mmHg\n",
       "287  100-0000-0288  139/71  mmHg\n",
       "288  100-0000-0289  114/77  mmHg\n",
       "415  100-0000-0416  103/74  mmHg\n",
       "416  100-0000-0417   97/74  mmHg\n",
       "417  100-0000-0418  106/77  mmHg"
      ]
     },
     "execution_count": 16,
     "metadata": {},
     "output_type": "execute_result"
    }
   ],
   "source": [
    "df.head(25)"
   ]
  },
  {
   "cell_type": "code",
   "execution_count": 63,
   "metadata": {},
   "outputs": [],
   "source": [
    "df['Split_BP']=df['BP'].apply(lambda x:re.split(\"\\D\", x))"
   ]
  },
  {
   "cell_type": "code",
   "execution_count": null,
   "metadata": {},
   "outputs": [],
   "source": []
  },
  {
   "cell_type": "code",
   "execution_count": 156,
   "metadata": {},
   "outputs": [],
   "source": [
    "df['Systole']=df['Split_BP'].apply(lambda x: x[0]).astype('int64')"
   ]
  },
  {
   "cell_type": "code",
   "execution_count": 137,
   "metadata": {},
   "outputs": [],
   "source": [
    "#df['Systole']=df['Systole'].apply(lambda col:pd.to_numeric(col, errors='coerce',downcast='integer'))"
   ]
  },
  {
   "cell_type": "code",
   "execution_count": 140,
   "metadata": {},
   "outputs": [
    {
     "data": {
      "text/plain": [
       "UHID        0\n",
       "BP          0\n",
       "Systole     1\n",
       "Split_BP    0\n",
       "Diastole    0\n",
       "dtype: int64"
      ]
     },
     "execution_count": 140,
     "metadata": {},
     "output_type": "execute_result"
    }
   ],
   "source": []
  },
  {
   "cell_type": "code",
   "execution_count": 155,
   "metadata": {},
   "outputs": [],
   "source": [
    "df['Diastole']=df['Split_BP'].apply(lambda x: x[1]).astype('int64')"
   ]
  },
  {
   "cell_type": "code",
   "execution_count": 68,
   "metadata": {},
   "outputs": [
    {
     "data": {
      "text/html": [
       "<div>\n",
       "<style scoped>\n",
       "    .dataframe tbody tr th:only-of-type {\n",
       "        vertical-align: middle;\n",
       "    }\n",
       "\n",
       "    .dataframe tbody tr th {\n",
       "        vertical-align: top;\n",
       "    }\n",
       "\n",
       "    .dataframe thead th {\n",
       "        text-align: right;\n",
       "    }\n",
       "</style>\n",
       "<table border=\"1\" class=\"dataframe\">\n",
       "  <thead>\n",
       "    <tr style=\"text-align: right;\">\n",
       "      <th></th>\n",
       "      <th>UHID</th>\n",
       "      <th>BP</th>\n",
       "      <th>Systole</th>\n",
       "      <th>Split_BP</th>\n",
       "      <th>Diastole</th>\n",
       "    </tr>\n",
       "  </thead>\n",
       "  <tbody>\n",
       "    <tr>\n",
       "      <th>0</th>\n",
       "      <td>100-0000-0001</td>\n",
       "      <td>104/75  mmHg</td>\n",
       "      <td>104</td>\n",
       "      <td>[104, 75, , , , , , ]</td>\n",
       "      <td>75</td>\n",
       "    </tr>\n",
       "    <tr>\n",
       "      <th>19</th>\n",
       "      <td>100-0000-0020</td>\n",
       "      <td>110/68  mmHg</td>\n",
       "      <td>110</td>\n",
       "      <td>[110, 68, , , , , , ]</td>\n",
       "      <td>68</td>\n",
       "    </tr>\n",
       "    <tr>\n",
       "      <th>21</th>\n",
       "      <td>100-0000-0022</td>\n",
       "      <td>127/80  mmHg</td>\n",
       "      <td>127</td>\n",
       "      <td>[127, 80, , , , , , ]</td>\n",
       "      <td>80</td>\n",
       "    </tr>\n",
       "    <tr>\n",
       "      <th>27</th>\n",
       "      <td>100-0000-0028</td>\n",
       "      <td>124/81  mmHg</td>\n",
       "      <td>124</td>\n",
       "      <td>[124, 81, , , , , , ]</td>\n",
       "      <td>81</td>\n",
       "    </tr>\n",
       "    <tr>\n",
       "      <th>37</th>\n",
       "      <td>100-0000-0038</td>\n",
       "      <td>115/71  mmHg</td>\n",
       "      <td>115</td>\n",
       "      <td>[115, 71, , , , , , ]</td>\n",
       "      <td>71</td>\n",
       "    </tr>\n",
       "    <tr>\n",
       "      <th>...</th>\n",
       "      <td>...</td>\n",
       "      <td>...</td>\n",
       "      <td>...</td>\n",
       "      <td>...</td>\n",
       "      <td>...</td>\n",
       "    </tr>\n",
       "    <tr>\n",
       "      <th>3011</th>\n",
       "      <td>100-0000-1502</td>\n",
       "      <td>155/93  mmHg</td>\n",
       "      <td>155</td>\n",
       "      <td>[155, 93, , , , , , ]</td>\n",
       "      <td>93</td>\n",
       "    </tr>\n",
       "    <tr>\n",
       "      <th>3012</th>\n",
       "      <td>100-0000-1503</td>\n",
       "      <td>88/59  mmHg</td>\n",
       "      <td>88</td>\n",
       "      <td>[88, 59, , , , , , ]</td>\n",
       "      <td>59</td>\n",
       "    </tr>\n",
       "    <tr>\n",
       "      <th>3015</th>\n",
       "      <td>100-0000-1506</td>\n",
       "      <td>153/102  mmHg</td>\n",
       "      <td>153</td>\n",
       "      <td>[153, 102, , , , , , ]</td>\n",
       "      <td>102</td>\n",
       "    </tr>\n",
       "    <tr>\n",
       "      <th>3016</th>\n",
       "      <td>100-0000-1507</td>\n",
       "      <td>123/65  mmHg</td>\n",
       "      <td>123</td>\n",
       "      <td>[123, 65, , , , , , ]</td>\n",
       "      <td>65</td>\n",
       "    </tr>\n",
       "    <tr>\n",
       "      <th>3017</th>\n",
       "      <td>100-0000-1508</td>\n",
       "      <td>125/81  mmHg</td>\n",
       "      <td>125</td>\n",
       "      <td>[125, 81, , , , , , ]</td>\n",
       "      <td>81</td>\n",
       "    </tr>\n",
       "  </tbody>\n",
       "</table>\n",
       "<p>723 rows × 5 columns</p>\n",
       "</div>"
      ],
      "text/plain": [
       "               UHID             BP Systole                Split_BP Diastole\n",
       "0     100-0000-0001   104/75  mmHg     104   [104, 75, , , , , , ]       75\n",
       "19    100-0000-0020   110/68  mmHg     110   [110, 68, , , , , , ]       68\n",
       "21    100-0000-0022   127/80  mmHg     127   [127, 80, , , , , , ]       80\n",
       "27    100-0000-0028   124/81  mmHg     124   [124, 81, , , , , , ]       81\n",
       "37    100-0000-0038   115/71  mmHg     115   [115, 71, , , , , , ]       71\n",
       "...             ...            ...     ...                     ...      ...\n",
       "3011  100-0000-1502   155/93  mmHg     155   [155, 93, , , , , , ]       93\n",
       "3012  100-0000-1503    88/59  mmHg      88    [88, 59, , , , , , ]       59\n",
       "3015  100-0000-1506  153/102  mmHg     153  [153, 102, , , , , , ]      102\n",
       "3016  100-0000-1507   123/65  mmHg     123   [123, 65, , , , , , ]       65\n",
       "3017  100-0000-1508   125/81  mmHg     125   [125, 81, , , , , , ]       81\n",
       "\n",
       "[723 rows x 5 columns]"
      ]
     },
     "execution_count": 68,
     "metadata": {},
     "output_type": "execute_result"
    }
   ],
   "source": [
    "df"
   ]
  },
  {
   "cell_type": "code",
   "execution_count": 142,
   "metadata": {},
   "outputs": [
    {
     "data": {
      "text/plain": [
       "UHID        0\n",
       "BP          0\n",
       "Systole     1\n",
       "Split_BP    0\n",
       "Diastole    0\n",
       "dtype: int64"
      ]
     },
     "execution_count": 142,
     "metadata": {},
     "output_type": "execute_result"
    }
   ],
   "source": [
    "df.isnull().sum()"
   ]
  },
  {
   "cell_type": "code",
   "execution_count": 152,
   "metadata": {},
   "outputs": [],
   "source": [
    "df.dropna(axis=0,inplace=True)"
   ]
  },
  {
   "cell_type": "code",
   "execution_count": 153,
   "metadata": {},
   "outputs": [
    {
     "data": {
      "text/plain": [
       "UHID        0\n",
       "BP          0\n",
       "Systole     0\n",
       "Split_BP    0\n",
       "Diastole    0\n",
       "dtype: int64"
      ]
     },
     "execution_count": 153,
     "metadata": {},
     "output_type": "execute_result"
    }
   ],
   "source": [
    "df.isnull().sum()"
   ]
  },
  {
   "cell_type": "code",
   "execution_count": 178,
   "metadata": {},
   "outputs": [
    {
     "data": {
      "text/plain": [
       "UHID        object\n",
       "BP          object\n",
       "Systole      int64\n",
       "Split_BP    object\n",
       "Diastole     int64\n",
       "dtype: object"
      ]
     },
     "execution_count": 178,
     "metadata": {},
     "output_type": "execute_result"
    }
   ],
   "source": [
    "df.dtypes"
   ]
  },
  {
   "cell_type": "code",
   "execution_count": 243,
   "metadata": {},
   "outputs": [
    {
     "data": {
      "text/plain": [
       "<matplotlib.patches.Rectangle at 0x1d084239390>"
      ]
     },
     "execution_count": 243,
     "metadata": {},
     "output_type": "execute_result"
    },
    {
     "data": {
      "image/png": "[encoded data removed]",
      "text/plain": [
       "<Figure size 1080x432 with 1 Axes>"
      ]
     },
     "metadata": {
      "needs_background": "light"
     },
     "output_type": "display_data"
    }
   ],
   "source": [
    "width =120 - min_f0\n",
    "height =80 - min_f1\n",
    "fig=plt.figure(figsize=(15,6))\n",
    "ax=fig.add_subplot(111)\n",
    "ax.scatter(df['Systole'],df['Diastole'])\n",
    "plt.title('Diastole vs Systole',fontsize=30)\n",
    "plt.xlabel('Systole',fontsize=20)\n",
    "plt.ylabel('Diastole',fontsize=20)\n",
    "min_f1=df['Diastole'].min()\n",
    "min_f0=df['Systole'].min()\n",
    "ax.add_patch(\n",
    "    patches.Rectangle(\n",
    "        xy=(min_f0,min_f1),  # point of origin.\n",
    "        width=width,\n",
    "        height=height,\n",
    "        linewidth=1,\n",
    "        color='red',\n",
    "        fill=False\n",
    "    ))\n",
    "#plt.savefig('C:/Users/Roshan/Desktop/Diastole Vs Systole.png')"
   ]
  },
  {
   "cell_type": "code",
   "execution_count": 239,
   "metadata": {},
   "outputs": [
    {
     "data": {
      "image/png": "[encoded data removed]",
      "text/plain": [
       "<Figure size 1080x432 with 1 Axes>"
      ]
     },
     "metadata": {
      "needs_background": "light"
     },
     "output_type": "display_data"
    }
   ],
   "source": [
    "value=(df['Diastole']<=80) & (df['Systole']<=120)\n",
    "df['color']= np.where( value==True , \"#9b59b6\", \"#3498db\")\n",
    "plt.figure(figsize=(15,6))\n",
    "plt.title('Diastole vs Systole',fontsize=30)\n",
    "plt.xlabel('Systole',fontsize=20)\n",
    "plt.ylabel('Diastole',fontsize=20)\n",
    "sns.regplot(data=df, x=\"Systole\", y=\"Diastole\", fit_reg=False, scatter_kws={'facecolors':df['color']})\n",
    "\n",
    "#plt.savefig('C:/Users/Roshan/Desktop/Diastole Vs Systole2.png')"
   ]
  },
  {
   "cell_type": "code",
   "execution_count": null,
   "metadata": {},
   "outputs": [],
   "source": []
  },
  {
   "cell_type": "code",
   "execution_count": null,
   "metadata": {},
   "outputs": [],
   "source": []
  }
 ],
 "metadata": {
  "kernelspec": {
   "display_name": "Python 3",
   "language": "python",
   "name": "python3"
  },
  "language_info": {
   "codemirror_mode": {
    "name": "ipython",
    "version": 3
   },
   "file_extension": ".py",
   "mimetype": "text/x-python",
   "name": "python",
   "nbconvert_exporter": "python",
   "pygments_lexer": "ipython3",
   "version": "3.7.3"
  }
 },
 "nbformat": 4,
 "nbformat_minor": 2
}
